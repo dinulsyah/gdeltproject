{
 "cells": [
  {
   "cell_type": "markdown",
   "metadata": {},
   "source": [
    " # Tugas Presentasi Kelompok 8"
   ]
  },
  {
   "cell_type": "markdown",
   "metadata": {},
   "source": [
    "# 1.Klasifikasi"
   ]
  },
  {
   "cell_type": "markdown",
   "metadata": {},
   "source": [
    " # Melakukan labelling pada mysql berdasarkan avgtone lebih dari 0 sama dengan positif lainya negatif\n",
    "![title](gambar/picture.png)"
   ]
  },
  {
   "cell_type": "markdown",
   "metadata": {},
   "source": [
    "# Contoh Hasil Data\n",
    "![title](gambar/picture1.png)"
   ]
  },
  {
   "cell_type": "markdown",
   "metadata": {},
   "source": [
    "# Melakukan export ke dalam format CSV(sentimen.csv) dan melakukan preprocessing teks isi berita dengan menggunakan scapy"
   ]
  },
  {
   "cell_type": "code",
   "execution_count": 2,
   "metadata": {},
   "outputs": [
    {
     "data": {
      "text/plain": [
       "0    President Trump said on Wednesday after a meet...\n",
       "1    Investors and economists for months have clung...\n",
       "2    The ongoing trade spat between the U.S. and Ch...\n",
       "3    Export earnings’ growth in September surged by...\n",
       "4    ×remaining ofThank you for Reading!On your nex...\n",
       "Name: berita, dtype: object"
      ]
     },
     "execution_count": 2,
     "metadata": {},
     "output_type": "execute_result"
    }
   ],
   "source": [
    "import pandas as pd\n",
    "header = ['berita','sourceurl','label']\n",
    "df=pd.read_csv('sentimen.csv',names=header) #--> dataframe\n",
    "df_berita = df['berita'] #--> dataframe berita\n",
    "df_berita.head()"
   ]
  },
  {
   "cell_type": "code",
   "execution_count": 3,
   "metadata": {},
   "outputs": [
    {
     "data": {
      "text/plain": [
       "'President Trump said on Wednesday after a meeting with European Commission President Jean-Claude Juncker that they had agreed to work on lowering trade barriers.Westwood One reports the president says that includes steel and aluminum tariffs.President Trump says the United States and the European Union have agreed to work toward “zero tariffs” and “zero subsidies” on non-automobile goods.Trump also says the EU has also agreed to buy “a lot of soybeans” and increase its imports of liquefied natural gas from the U.S. Trump says the EU will become a “massive buyer” of LNG to help diversify their energy supply.The president and the EU’s chief executive made statements at a joint event today following the meeting on trade.'"
      ]
     },
     "execution_count": 3,
     "metadata": {},
     "output_type": "execute_result"
    }
   ],
   "source": [
    "df_berita[0]"
   ]
  },
  {
   "cell_type": "code",
   "execution_count": 4,
   "metadata": {},
   "outputs": [],
   "source": [
    "import spacy\n",
    "import string\n",
    "result_dict={'berita':[]}\n",
    "nlp = spacy.load('en')\n",
    "size = len(df_berita)\n",
    "exclude = set(string.punctuation)\n",
    "for num in range(size):\n",
    "    doc = nlp(df_berita[num])\n",
    "    remove=['ADV','PRON','CCONJ','PUNCT','PART','DET','ADP','SPACE','NUM','SYM']\n",
    "    result = [token.lemma_ for token in doc if token.pos_ not in remove and token.is_stop is not True]\n",
    "    sentence = ' '.join(result)\n",
    "    sentence = ''.join(char for char in sentence if char not in exclude)\n",
    "    result_dict['berita'].append(sentence)\n",
    "df_clean = pd.DataFrame.from_dict(result_dict) #dataframe clean text"
   ]
  },
  {
   "cell_type": "code",
   "execution_count": 5,
   "metadata": {},
   "outputs": [
    {
     "data": {
      "text/plain": [
       "'president trump say wednesday meeting european commission president jean claude juncker agree work lower trade barrier westwood one report president say include steel aluminum tariff president trump say united states european union agree work tariff subsidy non automobile good trump say eu agree buy lot soybean increase import liquefy natural gas us trump say eu massive buyer lng help diversify energy supply president eu chief executive statement joint event today follow meeting trade'"
      ]
     },
     "execution_count": 5,
     "metadata": {},
     "output_type": "execute_result"
    }
   ],
   "source": [
    "df_clean['berita'][0]"
   ]
  },
  {
   "cell_type": "markdown",
   "metadata": {},
   "source": [
    "# Melakukan Vektorisasi dengan menggunakan Bag of word  dan tf-idf sklearn"
   ]
  },
  {
   "cell_type": "code",
   "execution_count": 6,
   "metadata": {},
   "outputs": [],
   "source": [
    "corpus = [sentence for sentence in df_clean['berita']]"
   ]
  },
  {
   "cell_type": "code",
   "execution_count": 7,
   "metadata": {},
   "outputs": [
    {
     "name": "stdout",
     "output_type": "stream",
     "text": [
      "(800, 5000)\n"
     ]
    }
   ],
   "source": [
    "from sklearn.feature_extraction.text import CountVectorizer\n",
    "vectorizer_bow = CountVectorizer(max_df=0.8,analyzer=\"word\",max_features=5000)\n",
    "vectorizer_bow.fit(corpus)\n",
    "vector_bow = vectorizer_bow.transform(corpus)\n",
    "print(vector_bow.shape)"
   ]
  },
  {
   "cell_type": "code",
   "execution_count": 8,
   "metadata": {},
   "outputs": [
    {
     "data": {
      "text/plain": [
       "array([[0, 0, 0, ..., 0, 0, 0],\n",
       "       [0, 0, 0, ..., 0, 0, 0],\n",
       "       [0, 0, 0, ..., 0, 0, 0],\n",
       "       ...,\n",
       "       [0, 0, 0, ..., 0, 0, 0],\n",
       "       [0, 0, 0, ..., 0, 0, 0],\n",
       "       [0, 0, 0, ..., 0, 0, 0]])"
      ]
     },
     "execution_count": 8,
     "metadata": {},
     "output_type": "execute_result"
    }
   ],
   "source": [
    "vector_bow.toarray()"
   ]
  },
  {
   "cell_type": "code",
   "execution_count": 9,
   "metadata": {},
   "outputs": [
    {
     "name": "stdout",
     "output_type": "stream",
     "text": [
      "(800, 5000)\n"
     ]
    }
   ],
   "source": [
    "from sklearn.feature_extraction.text import TfidfVectorizer\n",
    "vectorizer_tfidf = TfidfVectorizer(max_df=0.8,analyzer=\"word\",use_idf=True,max_features=5000)\n",
    "vectorizer_tfidf.fit(corpus)\n",
    "vector_tfidf = vectorizer_tfidf.transform(corpus)\n",
    "print(vector_tfidf.shape)"
   ]
  },
  {
   "cell_type": "code",
   "execution_count": 10,
   "metadata": {},
   "outputs": [
    {
     "data": {
      "text/plain": [
       "array([[0., 0., 0., ..., 0., 0., 0.],\n",
       "       [0., 0., 0., ..., 0., 0., 0.],\n",
       "       [0., 0., 0., ..., 0., 0., 0.],\n",
       "       ...,\n",
       "       [0., 0., 0., ..., 0., 0., 0.],\n",
       "       [0., 0., 0., ..., 0., 0., 0.],\n",
       "       [0., 0., 0., ..., 0., 0., 0.]])"
      ]
     },
     "execution_count": 10,
     "metadata": {},
     "output_type": "execute_result"
    }
   ],
   "source": [
    "vector_tfidf.toarray()"
   ]
  },
  {
   "cell_type": "markdown",
   "metadata": {},
   "source": [
    "# Training menggunakan Multinomial Naive sklearn dan Evaluasi 10 kfold"
   ]
  },
  {
   "cell_type": "code",
   "execution_count": 11,
   "metadata": {},
   "outputs": [
    {
     "name": "stdout",
     "output_type": "stream",
     "text": [
      "Bow dan MNB accuracy:\n",
      "[0.6375 0.5875 0.7375 0.7125 0.675  0.7    0.725  0.775  0.7375 0.75  ]\n",
      "\n",
      "Bow dan MNB precision:\n",
      "[0.67741935 0.58536585 0.73170732 0.71794872 0.71875    0.7\n",
      " 0.70454545 0.78947368 0.77142857 0.8125    ]\n",
      "\n",
      "Bow dan MNB recall:\n",
      "[0.525 0.6   0.75  0.7   0.575 0.7   0.775 0.75  0.675 0.65 ]\n",
      "----------------------------------\n",
      "Rata-Rata akurasi : 0.70375\n",
      "Rata-Rata precision : 0.7209138953703688\n",
      "Rata-Rata recall : 0.67\n",
      "----------------------------------\n",
      "\n",
      "Tfidf dan MNB accuracy:\n",
      "[0.65   0.625  0.8    0.675  0.675  0.6875 0.75   0.8    0.7125 0.7375]\n",
      "\n",
      "Tfidf dan MNB precision:\n",
      "[0.71428571 0.63888889 0.83333333 0.70588235 0.73333333 0.7027027\n",
      " 0.75       0.85294118 0.77419355 0.82758621]\n",
      "\n",
      "Tfidf dan MNB recall:\n",
      "[0.5   0.575 0.75  0.6   0.55  0.65  0.75  0.725 0.6   0.6  ]\n",
      "----------------------------------\n",
      "Rata-Rata akurasi : 0.71125\n",
      "Rata-Rata precision : 0.7533147257239385\n",
      "Rata-Rata recall : 0.63\n",
      "----------------------------------\n",
      "\n"
     ]
    }
   ],
   "source": [
    "from sklearn.naive_bayes import MultinomialNB\n",
    "from sklearn.model_selection import cross_validate\n",
    "import statistics\n",
    "label = [label for label in df[\"label\"]]\n",
    "mnb = MultinomialNB()\n",
    "accuracy = cross_validate(mnb,vector_bow,label,cv=10,scoring='accuracy',return_train_score=False)\n",
    "print('Bow dan MNB accuracy:')\n",
    "print(accuracy['test_score'])\n",
    "print()\n",
    "precision = cross_validate(mnb,vector_bow,label,cv=10,scoring='precision',return_train_score=False)\n",
    "print('Bow dan MNB precision:')\n",
    "print(precision['test_score'])\n",
    "print()\n",
    "recall = cross_validate(mnb,vector_bow,label,cv=10,scoring='recall',return_train_score=False)\n",
    "print('Bow dan MNB recall:')\n",
    "print(recall['test_score'])\n",
    "print(\"----------------------------------\")\n",
    "print(\"Rata-Rata akurasi : \"+ str(statistics.mean(accuracy['test_score'])))\n",
    "print(\"Rata-Rata precision : \"+ str(statistics.mean(precision['test_score'])))\n",
    "print(\"Rata-Rata recall : \"+ str(statistics.mean(recall['test_score'])))\n",
    "print(\"----------------------------------\")\n",
    "print()\n",
    "accuracy = cross_validate(mnb,vector_tfidf,label,cv=10,scoring='accuracy',return_train_score=False)\n",
    "print('Tfidf dan MNB accuracy:')\n",
    "print(accuracy['test_score'])\n",
    "print()\n",
    "precision = cross_validate(mnb,vector_tfidf,label,cv=10,scoring='precision',return_train_score=False)\n",
    "print('Tfidf dan MNB precision:')\n",
    "print(precision['test_score'])\n",
    "print()\n",
    "recall = cross_validate(mnb,vector_tfidf,label,cv=10,scoring='recall',return_train_score=False)\n",
    "print('Tfidf dan MNB recall:')\n",
    "print(recall['test_score'])\n",
    "print(\"----------------------------------\")\n",
    "print(\"Rata-Rata akurasi : \"+ str(statistics.mean(accuracy['test_score'])))\n",
    "print(\"Rata-Rata precision : \"+ str(statistics.mean(precision['test_score'])))\n",
    "print(\"Rata-Rata recall : \"+ str(statistics.mean(recall['test_score'])))\n",
    "print(\"----------------------------------\")\n",
    "print()"
   ]
  },
  {
   "cell_type": "markdown",
   "metadata": {},
   "source": [
    "# MNB Melakukan prediksi pada data bersih diluar data training"
   ]
  },
  {
   "cell_type": "code",
   "execution_count": 12,
   "metadata": {},
   "outputs": [
    {
     "data": {
      "text/plain": [
       "MultinomialNB(alpha=1.0, class_prior=None, fit_prior=True)"
      ]
     },
     "execution_count": 12,
     "metadata": {},
     "output_type": "execute_result"
    }
   ],
   "source": [
    "mnb.fit(vector_bow,label)"
   ]
  },
  {
   "cell_type": "code",
   "execution_count": 13,
   "metadata": {},
   "outputs": [
    {
     "name": "stdout",
     "output_type": "stream",
     "text": [
      "Predicting.....\n",
      "Result.....\n",
      "billionaire warren buffett say expect blow trade war develop united states china country benefit trade analyst list hard line demand trump administration hand china week difficult resolve trade conflict world large economy separate issue buffett say wells fargo clean act misconduct bank recent year berkshire hathaway own percent wells fargo stock buffett say saturday plan sell buffett say wells fargo big mistake wrong incentive place employee make stride : -1\n",
      "\n",
      "president trump say wednesday meeting european commission president jean claude juncker agree work lower trade barrier westwood one report president say include steel aluminum tariff president trump say united states european union agree work tariff subsidy non automobile good trump say eu agree buy lot soybean increase import liquefy natural gas us trump say eu massive buyer lng help diversify energy supply president eu chief executive statement joint event today follow meeting trade : 1\n",
      "\n",
      "ongoing trade spit us china big threat market federal reserve monetary policy strategist art hogan say wednesday : 1\n",
      "\n",
      "come day us impose worth tariff good import beijing administration say new levy response china decision retaliate round united states tariff announce propose tariff usa trade representative robert lighthizer say year trump administration urge china stop unfair practice open market engage true market competitionbut china diversify economy way vulnerable usa pressure wasif trump want china sure nafta : -1\n",
      "\n",
      "us solar action damage china trade interest affect seriousness authority wto rule say commerce ministry statement chinese executive speak condition anonymity tell reuters us solar tariff sideshow little effect chinese business qatar rescue turkey billionadministration official say usa meeting schedule turkish official discuss brunson case order protect trade interest china deem necessary resort wto dispute settlement mechanismsolar piece big trade chessboard say chinese solar executive decline name : -1\n",
      "\n"
     ]
    }
   ],
   "source": [
    "print(\"Predicting.....\")\n",
    "df_test = pd.read_csv('cleandata.csv')\n",
    "df_test_berita = [df_test['berita'][index] for index in range(5)]\n",
    "new_vector_mnb = vectorizer_bow.transform(df_test_berita)\n",
    "print(\"Result.....\")\n",
    "predicted = mnb.predict(new_vector_mnb)\n",
    "for doc,label in zip(df_test_berita,predicted):\n",
    "    print(str(doc) + \" : \" + str(label))\n",
    "    print()"
   ]
  },
  {
   "cell_type": "markdown",
   "metadata": {},
   "source": [
    "# Evaluasi dengan confusion matrix pada data training"
   ]
  },
  {
   "cell_type": "code",
   "execution_count": 14,
   "metadata": {},
   "outputs": [
    {
     "name": "stdout",
     "output_type": "stream",
     "text": [
      "[[386  14]\n",
      " [ 24 376]]\n",
      "              precision    recall  f1-score   support\n",
      "\n",
      "          -1       0.94      0.96      0.95       400\n",
      "           1       0.96      0.94      0.95       400\n",
      "\n",
      "   micro avg       0.95      0.95      0.95       800\n",
      "   macro avg       0.95      0.95      0.95       800\n",
      "weighted avg       0.95      0.95      0.95       800\n",
      "\n"
     ]
    }
   ],
   "source": [
    "from sklearn.metrics import confusion_matrix, classification_report\n",
    "# suppose your predictions are stored in a variable called preds\n",
    "# and the true values are stored in a variable called y\n",
    "prediksi = mnb.predict(vector_bow)\n",
    "label = [label for label in df[\"label\"]]\n",
    "#confusion_matrix(y_true, y_pred, labels=[\"True\", \"False\"])\n",
    "print(confusion_matrix(label, prediksi))\n",
    "print(classification_report(label, prediksi))"
   ]
  },
  {
   "cell_type": "markdown",
   "metadata": {},
   "source": [
    "# Training menggunakan Random Forest sklearn dan Evaluasi 10 kfold"
   ]
  },
  {
   "cell_type": "code",
   "execution_count": 15,
   "metadata": {},
   "outputs": [
    {
     "name": "stdout",
     "output_type": "stream",
     "text": [
      "Jumlah Tree: 50\n",
      "\n",
      "Bow dan RF accuracy:\n",
      "[0.6375 0.7    0.65   0.6375 0.6375 0.65   0.65   0.6875 0.675  0.725 ]\n",
      "\n",
      "Bow dan RF precision:\n",
      "[0.63414634 0.66       0.64285714 0.62222222 0.64102564 0.67647059\n",
      " 0.66666667 0.7027027  0.675      0.78125   ]\n",
      "\n",
      "Bow dan RF recall:\n",
      "[0.65  0.825 0.675 0.7   0.625 0.575 0.6   0.65  0.675 0.625]\n",
      "----------------------------------\n",
      "Rata-Rata akurasi : 0.665\n",
      "Rata-Rata precision : 0.6702341305173084\n",
      "Rata-Rata recall : 0.66\n",
      "----------------------------------\n",
      "\n",
      "Tfidf dan RF accuracy:\n",
      "[0.575  0.675  0.6625 0.625  0.6625 0.65   0.675  0.725  0.6375 0.7375]\n",
      "\n",
      "Tfidf dan RF precision:\n",
      "[0.59375    0.675      0.64444444 0.61363636 0.6969697  0.65789474\n",
      " 0.675      0.73684211 0.61702128 0.74358974]\n",
      "\n",
      "Tfidf dan RF recall:\n",
      "[0.475 0.675 0.725 0.675 0.575 0.625 0.675 0.7   0.725 0.725]\n",
      "----------------------------------\n",
      "Rata-Rata akurasi : 0.6625\n",
      "Rata-Rata precision : 0.6654148367341257\n",
      "Rata-Rata recall : 0.6575\n",
      "----------------------------------\n",
      "\n",
      "Jumlah Tree: 75\n",
      "\n",
      "Bow dan RF accuracy:\n",
      "[0.65   0.675  0.7125 0.6125 0.625  0.7    0.7    0.6875 0.65   0.725 ]\n",
      "\n",
      "Bow dan RF precision:\n",
      "[0.65       0.64       0.68888889 0.59574468 0.625      0.73529412\n",
      " 0.7        0.69230769 0.64285714 0.78125   ]\n",
      "\n",
      "Bow dan RF recall:\n",
      "[0.65  0.8   0.775 0.7   0.625 0.625 0.7   0.675 0.675 0.625]\n",
      "----------------------------------\n",
      "Rata-Rata akurasi : 0.67375\n",
      "Rata-Rata precision : 0.6751342522551846\n",
      "Rata-Rata recall : 0.685\n",
      "----------------------------------\n",
      "\n",
      "Tfidf dan RF accuracy:\n",
      "[0.5625 0.6625 0.7125 0.65   0.6875 0.6625 0.7375 0.7375 0.65   0.7125]\n",
      "\n",
      "Tfidf dan RF precision:\n",
      "[0.56756757 0.65116279 0.68085106 0.625      0.69230769 0.65853659\n",
      " 0.74358974 0.73170732 0.63043478 0.72972973]\n",
      "\n",
      "Tfidf dan RF recall:\n",
      "[0.525 0.7   0.8   0.75  0.675 0.675 0.725 0.75  0.725 0.675]\n",
      "----------------------------------\n",
      "Rata-Rata akurasi : 0.6775\n",
      "Rata-Rata precision : 0.6710887272769915\n",
      "Rata-Rata recall : 0.7\n",
      "----------------------------------\n",
      "\n",
      "Jumlah Tree: 100\n",
      "\n",
      "Bow dan RF accuracy:\n",
      "[0.6625 0.65   0.7375 0.6125 0.675  0.7375 0.6875 0.675  0.6875 0.725 ]\n",
      "\n",
      "Bow dan RF precision:\n",
      "[0.66666667 0.62       0.70212766 0.59574468 0.675      0.77142857\n",
      " 0.69230769 0.69444444 0.68292683 0.78125   ]\n",
      "\n",
      "Bow dan RF recall:\n",
      "[0.65  0.775 0.825 0.7   0.675 0.675 0.675 0.625 0.7   0.625]\n",
      "----------------------------------\n",
      "Rata-Rata akurasi : 0.685\n",
      "Rata-Rata precision : 0.68818965445412\n",
      "Rata-Rata recall : 0.6925\n",
      "----------------------------------\n",
      "\n",
      "Tfidf dan RF accuracy:\n",
      "[0.5625 0.65   0.675  0.6625 0.6875 0.675  0.7125 0.7375 0.65   0.7   ]\n",
      "\n",
      "Tfidf dan RF precision:\n",
      "[0.57142857 0.64285714 0.64       0.63265306 0.7027027  0.68421053\n",
      " 0.72972973 0.72093023 0.63043478 0.73529412]\n",
      "\n",
      "Tfidf dan RF recall:\n",
      "[0.5   0.675 0.8   0.775 0.65  0.65  0.675 0.775 0.725 0.625]\n",
      "----------------------------------\n",
      "Rata-Rata akurasi : 0.67125\n",
      "Rata-Rata precision : 0.669024086707232\n",
      "Rata-Rata recall : 0.685\n",
      "----------------------------------\n",
      "\n"
     ]
    }
   ],
   "source": [
    "from sklearn.ensemble import RandomForestClassifier\n",
    "import statistics\n",
    "label = [label for label in df[\"label\"]]\n",
    "trees = [50,75,100]\n",
    "for tree in trees:\n",
    "    print(\"Jumlah Tree: \"+ str(tree))\n",
    "    print()\n",
    "    rf = RandomForestClassifier(n_estimators=tree,random_state=0,criterion='gini',max_features='auto')\n",
    "    accuracy = cross_validate(rf,vector_bow,label,cv=10,scoring='accuracy',return_train_score=False)\n",
    "    print('Bow dan RF accuracy:')\n",
    "    print(accuracy['test_score'])\n",
    "    print()\n",
    "    precision = cross_validate(rf,vector_bow,label,cv=10,scoring='precision',return_train_score=False)\n",
    "    print('Bow dan RF precision:')\n",
    "    print(precision['test_score'])\n",
    "    print()\n",
    "    recall = cross_validate(rf,vector_bow,label,cv=10,scoring='recall',return_train_score=False)\n",
    "    print('Bow dan RF recall:')\n",
    "    print(recall['test_score'])\n",
    "    print(\"----------------------------------\")\n",
    "    print(\"Rata-Rata akurasi : \"+ str(statistics.mean(accuracy['test_score'])))\n",
    "    print(\"Rata-Rata precision : \"+ str(statistics.mean(precision['test_score'])))\n",
    "    print(\"Rata-Rata recall : \"+ str(statistics.mean(recall['test_score'])))\n",
    "    print(\"----------------------------------\")\n",
    "    print()\n",
    "    accuracy = cross_validate(rf,vector_tfidf,label,cv=10,scoring='accuracy',return_train_score=False)\n",
    "    print('Tfidf dan RF accuracy:')\n",
    "    print(accuracy['test_score'])\n",
    "    print()\n",
    "    precision = cross_validate(rf,vector_tfidf,label,cv=10,scoring='precision',return_train_score=False)\n",
    "    print('Tfidf dan RF precision:')\n",
    "    print(precision['test_score'])\n",
    "    print()\n",
    "    recall = cross_validate(rf,vector_tfidf,label,cv=10,scoring='recall',return_train_score=False)\n",
    "    print('Tfidf dan RF recall:')\n",
    "    print(recall['test_score'])\n",
    "    print(\"----------------------------------\")\n",
    "    print(\"Rata-Rata akurasi : \"+ str(statistics.mean(accuracy['test_score'])))\n",
    "    print(\"Rata-Rata precision : \"+ str(statistics.mean(precision['test_score'])))\n",
    "    print(\"Rata-Rata recall : \"+ str(statistics.mean(recall['test_score'])))\n",
    "    print(\"----------------------------------\")\n",
    "    print()"
   ]
  },
  {
   "cell_type": "markdown",
   "metadata": {},
   "source": [
    "# RF Melakukan prediksi pada data bersih diluar data training"
   ]
  },
  {
   "cell_type": "code",
   "execution_count": 16,
   "metadata": {},
   "outputs": [
    {
     "data": {
      "text/plain": [
       "RandomForestClassifier(bootstrap=True, class_weight=None, criterion='gini',\n",
       "            max_depth=None, max_features='auto', max_leaf_nodes=None,\n",
       "            min_impurity_decrease=0.0, min_impurity_split=None,\n",
       "            min_samples_leaf=1, min_samples_split=2,\n",
       "            min_weight_fraction_leaf=0.0, n_estimators=100, n_jobs=None,\n",
       "            oob_score=False, random_state=0, verbose=0, warm_start=False)"
      ]
     },
     "execution_count": 16,
     "metadata": {},
     "output_type": "execute_result"
    }
   ],
   "source": [
    "rf = RandomForestClassifier(n_estimators=100,random_state=0,criterion='gini',max_features='auto')\n",
    "rf.fit(vector_bow,label)"
   ]
  },
  {
   "cell_type": "code",
   "execution_count": 17,
   "metadata": {},
   "outputs": [
    {
     "name": "stdout",
     "output_type": "stream",
     "text": [
      "Predicting.....\n",
      "Result.....\n",
      "billionaire warren buffett say expect blow trade war develop united states china country benefit trade analyst list hard line demand trump administration hand china week difficult resolve trade conflict world large economy separate issue buffett say wells fargo clean act misconduct bank recent year berkshire hathaway own percent wells fargo stock buffett say saturday plan sell buffett say wells fargo big mistake wrong incentive place employee make stride : -1\n",
      "\n",
      "president trump say wednesday meeting european commission president jean claude juncker agree work lower trade barrier westwood one report president say include steel aluminum tariff president trump say united states european union agree work tariff subsidy non automobile good trump say eu agree buy lot soybean increase import liquefy natural gas us trump say eu massive buyer lng help diversify energy supply president eu chief executive statement joint event today follow meeting trade : 1\n",
      "\n",
      "ongoing trade spit us china big threat market federal reserve monetary policy strategist art hogan say wednesday : 1\n",
      "\n",
      "come day us impose worth tariff good import beijing administration say new levy response china decision retaliate round united states tariff announce propose tariff usa trade representative robert lighthizer say year trump administration urge china stop unfair practice open market engage true market competitionbut china diversify economy way vulnerable usa pressure wasif trump want china sure nafta : -1\n",
      "\n",
      "us solar action damage china trade interest affect seriousness authority wto rule say commerce ministry statement chinese executive speak condition anonymity tell reuters us solar tariff sideshow little effect chinese business qatar rescue turkey billionadministration official say usa meeting schedule turkish official discuss brunson case order protect trade interest china deem necessary resort wto dispute settlement mechanismsolar piece big trade chessboard say chinese solar executive decline name : -1\n",
      "\n"
     ]
    }
   ],
   "source": [
    "print(\"Predicting.....\")\n",
    "new_vector_rf = vectorizer_bow.transform(df_test_berita)\n",
    "print(\"Result.....\")\n",
    "prediksi = rf.predict(new_vector_rf)\n",
    "for doc,label in zip(df_test_berita,prediksi):\n",
    "    print(str(doc) + \" : \" + str(label))\n",
    "    print()"
   ]
  },
  {
   "cell_type": "markdown",
   "metadata": {},
   "source": [
    "# Evaluasi dengan confusion matrix pada data training"
   ]
  },
  {
   "cell_type": "code",
   "execution_count": 18,
   "metadata": {},
   "outputs": [
    {
     "name": "stdout",
     "output_type": "stream",
     "text": [
      "[[398   2]\n",
      " [  2 398]]\n",
      "              precision    recall  f1-score   support\n",
      "\n",
      "          -1       0.99      0.99      0.99       400\n",
      "           1       0.99      0.99      0.99       400\n",
      "\n",
      "   micro avg       0.99      0.99      0.99       800\n",
      "   macro avg       0.99      0.99      0.99       800\n",
      "weighted avg       0.99      0.99      0.99       800\n",
      "\n"
     ]
    }
   ],
   "source": [
    "# suppose your predictions are stored in a variable called preds\n",
    "# and the true values are stored in a variable called y\n",
    "prediksi = rf.predict(vector_bow)\n",
    "label = [label for label in df[\"label\"]]\n",
    "#confusion_matrix(y_true, y_pred, labels=[\"True\", \"False\"])\n",
    "print(confusion_matrix(label, prediksi))\n",
    "print(classification_report(label, prediksi))"
   ]
  },
  {
   "cell_type": "markdown",
   "metadata": {},
   "source": [
    "# Hasil Visualisasi/ Averaging dengan Menggunakan Tableau dari data hasil dan USDCHY Forex\n"
   ]
  },
  {
   "cell_type": "code",
   "execution_count": 29,
   "metadata": {},
   "outputs": [
    {
     "data": {
      "text/html": [
       "<img src='gambar/picture2.png', width=800, height=800>\n"
      ],
      "text/plain": [
       "<IPython.core.display.HTML object>"
      ]
     },
     "metadata": {},
     "output_type": "display_data"
    }
   ],
   "source": [
    "%%html\n",
    "<img src='gambar/picture2.png', width=800, height=800>"
   ]
  },
  {
   "cell_type": "code",
   "execution_count": 31,
   "metadata": {},
   "outputs": [
    {
     "data": {
      "text/html": [
       "<img src='gambar/picture3.png', width=800, height=800>\n"
      ],
      "text/plain": [
       "<IPython.core.display.HTML object>"
      ]
     },
     "metadata": {},
     "output_type": "display_data"
    }
   ],
   "source": [
    "%%html\n",
    "<img src='gambar/picture3.png', width=800, height=800>"
   ]
  },
  {
   "cell_type": "code",
   "execution_count": null,
   "metadata": {},
   "outputs": [],
   "source": []
  }
 ],
 "metadata": {
  "kernelspec": {
   "display_name": "Python 3",
   "language": "python",
   "name": "python3"
  },
  "language_info": {
   "codemirror_mode": {
    "name": "ipython",
    "version": 3
   },
   "file_extension": ".py",
   "mimetype": "text/x-python",
   "name": "python",
   "nbconvert_exporter": "python",
   "pygments_lexer": "ipython3",
   "version": "3.6.6"
  }
 },
 "nbformat": 4,
 "nbformat_minor": 2
}
