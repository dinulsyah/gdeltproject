{
 "cells": [
  {
   "cell_type": "code",
   "execution_count": 3,
   "metadata": {},
   "outputs": [],
   "source": [
    "#!/usr/bin/env python3\n",
    "# -*- coding: utf-8 -*-\n",
    "\"\"\"\n",
    "Created on Sun Nov 11 18:08:17 2018\n",
    "\n",
    "@author: Arif Dinulsyah Putra\n",
    "source : https://www.gdeltproject.org\n",
    "\"\"\"\n",
    "\n",
    "import requests\n",
    "import lxml.html as lh\n",
    "import os.path\n",
    "import urllib.request\n",
    "import zipfile\n",
    "import glob\n",
    "import operator\n",
    "import pandas as pd\n",
    "from subprocess import call\n",
    "from sqlalchemy import create_engine\n",
    "import pandas as pd\n",
    "import pymysql\n",
    "\n",
    "#function for obtaining files in GDELT Event 1.0\n",
    "def get_files():\n",
    "    months=['01','02','03','04','05','06','07','08','09','10']\n",
    "    gdelt_base_url = 'http://data.gdeltproject.org/events/'\n",
    "    page = requests.get(gdelt_base_url+'index.html')    \n",
    "    doc = lh.fromstring(page.content)\n",
    "    link_list = doc.xpath(\"//*/ul/li/a/@href\")\n",
    "    local_path='/Users/Project/Desktop/gdelt/'\n",
    "    # separate out those links that begin in january until october in 2018\n",
    "    file_list = [x for x in link_list if str(x[0:4]) == '2018' and str(x[4:6]) in months]\n",
    "    \n",
    "    infilecounter = 0\n",
    "    \n",
    "    for compressed_file in file_list[infilecounter:]:\n",
    "    # if we dont have the compressed file stored locally, go get it. Keep trying if necessary.\n",
    "        while not os.path.isfile(local_path + compressed_file):\n",
    "            print('downloading, '),\n",
    "            urllib.request.urlretrieve(url=gdelt_base_url + compressed_file,\n",
    "                           filename=local_path + compressed_file)\n",
    "            print('extracting,'),\n",
    "            z = zipfile.ZipFile(file=local_path + compressed_file, mode='r')\n",
    "            z.extractall(path=local_path + 'tmp/')\n",
    "    \n",
    " #function for appending row/data with keyword --> trade war on URL attribute           \n",
    "def parsing():\n",
    "    keyword = 'trade-war' \n",
    "    local_path='/Users/Project/Desktop/gdelt/' # use your path\n",
    "    outfilecounter=0\n",
    "    # parse each of the csv files in the working directory,\n",
    "    print('parsing....'),\n",
    "    print('total file: ',len(glob.glob(local_path+'tmp/*')))\n",
    "    for infile_name in glob.glob(local_path+'tmp/*'):\n",
    "        print(\"processing.... \"+ infile_name)\n",
    "        #Make a directory/folder named gdeltdata and put also a plain/blank file named 0000.tsv on that directory\n",
    "        outfile_name = local_path + 'gdeltdata/' + '%04i.tsv' % outfilecounter\n",
    "        # open the infile and outfile\n",
    "        with open(infile_name,mode='r') as infile, open(outfile_name, mode='w') as outfile:\n",
    "            for line in infile:\n",
    "            # extract lines with our interest\n",
    "                if keyword in operator.itemgetter(57)(line.split('\\t')):\n",
    "                    outfile.write(line)\n",
    "            outfilecounter += 1\n",
    "            \n",
    "#(FOR MAC OS)can try/find other command in windows for merged files\n",
    "def merged_files():\n",
    "    script=\"cat /Users/Project/Desktop/gdelt/gdeltdata/*.tsv > /Users/Project/Desktop/gdelt/gdeltdata/merged.tsv\"\n",
    "    call(script,shell=True)\n",
    "\n",
    "def run(sql):\n",
    "    df = pd.read_sql_query(sql,engine)\n",
    "    return df\n",
    "    \n",
    "if __name__ == '__main__':\n",
    "    #UNCOMMENT THIS SECTION TO RUN THE CODE\n",
    "    #get_files() <---\n",
    "    #parsing()  <---\n",
    "    #merged_files() <---\n",
    "    #UNCOMMENT THIS SECTION TO RUN THE CODE\n",
    "    \n",
    "    #This section for importing files to sql database \n",
    "    header = pd.read_csv('/Users/Project/Desktop/gdelt/gdeltdata/CSV.header.fieldids.csv')\n",
    "    header_list=list()\n",
    "    for c in header:\n",
    "        header_list.append(c)\n",
    "    engine=create_engine('mysql+pymysql://root@localhost:3306/gdelt')\n",
    "    data_csv = pd.read_csv('/Users/Project/Desktop/gdelt/gdeltdata/merged.tsv',sep='\\t',names=header_list)\n",
    "    data_csv.to_sql(name='gdelt',con=engine,if_exists='replace',index=False)"
   ]
  },
  {
   "cell_type": "markdown",
   "metadata": {},
   "source": [
    "# Query langsung di mysql database (Laragon/xampp) hasilnya 3000 an bisa di export ke csv kalau pake sql alchemy load hasilnya sedikit. URLnya banyak yg duplicate coba2 aja dulu\n",
    "\n",
    "SELECT * FROM gdelt WHERE (Actor1Code='USA'and Actor2Code='CHN') OR (Actor1Code='CHN'and Actor2Code='USA') GROUP BY SOURCEURL"
   ]
  },
  {
   "cell_type": "code",
   "execution_count": 37,
   "metadata": {},
   "outputs": [],
   "source": [
    "df = pd.read_csv('/Users/Project/Desktop/gdelt/gdeltdata/gdelt.csv',names=header_list)"
   ]
  },
  {
   "cell_type": "code",
   "execution_count": 41,
   "metadata": {},
   "outputs": [
    {
     "data": {
      "text/plain": [
       "3430"
      ]
     },
     "execution_count": 41,
     "metadata": {},
     "output_type": "execute_result"
    }
   ],
   "source": [
    "df['AvgTone'].count()"
   ]
  },
  {
   "cell_type": "code",
   "execution_count": 42,
   "metadata": {},
   "outputs": [
    {
     "data": {
      "text/plain": [
       "-17.5438596491228"
      ]
     },
     "execution_count": 42,
     "metadata": {},
     "output_type": "execute_result"
    }
   ],
   "source": [
    "df['AvgTone'].min()"
   ]
  },
  {
   "cell_type": "code",
   "execution_count": 43,
   "metadata": {},
   "outputs": [
    {
     "data": {
      "text/plain": [
       "4.25531914893617"
      ]
     },
     "execution_count": 43,
     "metadata": {},
     "output_type": "execute_result"
    }
   ],
   "source": [
    "df['AvgTone'].max()"
   ]
  },
  {
   "cell_type": "code",
   "execution_count": 45,
   "metadata": {},
   "outputs": [
    {
     "data": {
      "text/plain": [
       "-2.998077666584076"
      ]
     },
     "execution_count": 45,
     "metadata": {},
     "output_type": "execute_result"
    }
   ],
   "source": [
    "df['AvgTone'].mean()"
   ]
  }
 ],
 "metadata": {
  "kernelspec": {
   "display_name": "Python 3",
   "language": "python",
   "name": "python3"
  },
  "language_info": {
   "codemirror_mode": {
    "name": "ipython",
    "version": 3
   },
   "file_extension": ".py",
   "mimetype": "text/x-python",
   "name": "python",
   "nbconvert_exporter": "python",
   "pygments_lexer": "ipython3",
   "version": "3.6.6"
  }
 },
 "nbformat": 4,
 "nbformat_minor": 2
}
